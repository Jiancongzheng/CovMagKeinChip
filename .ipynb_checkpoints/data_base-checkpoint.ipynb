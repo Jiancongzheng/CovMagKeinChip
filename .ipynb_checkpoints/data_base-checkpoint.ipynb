{
 "cells": [
  {
   "cell_type": "code",
   "execution_count": 1,
   "metadata": {},
   "outputs": [],
   "source": [
    "from pymongo import MongoClient\n",
    "\n",
    "\n",
    "uri = '**Confidential**'\n",
    "client = MongoClient(uri)\n",
    "db = client['2019-nCoV']\n",
    "\n",
    "\n",
    "class DB:\n",
    "    def __init__(self):\n",
    "        self.db = db\n",
    "\n",
    "    def insert(self, collection, data):\n",
    "        self.db[collection].insert(data)\n",
    "\n",
    "    def find_one(self, collection, data=None):\n",
    "        return self.db[collection].find_one(data)"
   ]
  },
  {
   "cell_type": "code",
   "execution_count": null,
   "metadata": {},
   "outputs": [],
   "source": []
  }
 ],
 "metadata": {
  "kernelspec": {
   "display_name": "crawler",
   "language": "python",
   "name": "crawler"
  },
  "language_info": {
   "codemirror_mode": {
    "name": "ipython",
    "version": 3
   },
   "file_extension": ".py",
   "mimetype": "text/x-python",
   "name": "python",
   "nbconvert_exporter": "python",
   "pygments_lexer": "ipython3",
   "version": "3.7.6"
  }
 },
 "nbformat": 4,
 "nbformat_minor": 4
}
